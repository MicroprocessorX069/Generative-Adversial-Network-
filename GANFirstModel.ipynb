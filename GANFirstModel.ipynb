{
  "nbformat": 4,
  "nbformat_minor": 0,
  "metadata": {
    "colab": {
      "name": "GANFirstModel.ipynb",
      "version": "0.3.2",
      "provenance": [],
      "collapsed_sections": [],
      "include_colab_link": true
    },
    "kernelspec": {
      "name": "python3",
      "display_name": "Python 3"
    }
  },
  "cells": [
    {
      "cell_type": "markdown",
      "metadata": {
        "id": "view-in-github",
        "colab_type": "text"
      },
      "source": [
        "<a href=\"https://colab.research.google.com/github/MicroprocessorX069/Generative-Adversial-Network-/blob/master/GANFirstModel.ipynb\" target=\"_parent\"><img src=\"https://colab.research.google.com/assets/colab-badge.svg\" alt=\"Open In Colab\"/></a>"
      ]
    },
    {
      "metadata": {
        "id": "OcRhP9AMppdb",
        "colab_type": "code",
        "colab": {}
      },
      "cell_type": "code",
      "source": [
        "!pip install torchvision jupyter tensorboardx pillow"
      ],
      "execution_count": 0,
      "outputs": []
    },
    {
      "metadata": {
        "id": "G81dSJ3Uquzz",
        "colab_type": "code",
        "colab": {}
      },
      "cell_type": "code",
      "source": [
        "import torch \n",
        "from torch import nn, optim\n",
        "from torch.autograd.variable import Variable\n",
        "from torchvision import transforms, datasets"
      ],
      "execution_count": 0,
      "outputs": []
    },
    {
      "metadata": {
        "id": "D_7FLsJSq_NS",
        "colab_type": "text"
      },
      "cell_type": "markdown",
      "source": [
        "Importing logger to keep a track of training progress "
      ]
    },
    {
      "metadata": {
        "id": "vtt7GyPzrFps",
        "colab_type": "code",
        "colab": {}
      },
      "cell_type": "code",
      "source": [
        "from utils import Logger"
      ],
      "execution_count": 0,
      "outputs": []
    },
    {
      "metadata": {
        "id": "tNQQehCVsOp-",
        "colab_type": "text"
      },
      "cell_type": "markdown",
      "source": [
        "##Importing MNIST Data\n",
        "Using the MNIST Dataset\n",
        "Training the Generative network :[link text](https://github.com/soumith/ganhacks)\n"
      ]
    },
    {
      "metadata": {
        "id": "ebNZOTWrsGxt",
        "colab_type": "code",
        "colab": {}
      },
      "cell_type": "code",
      "source": [
        "def mnist_data():\n",
        "  #transforms.Compose makes multiple transformations at once.\n",
        "  #transforms.Normalize((mean1,mean2. . . mean n), (std1, std2. . . std n)) normalized n dimensional data with respective means and standard deviations\n",
        "  compose=transforms.Compose([transforms.ToTensor(),transforms.Normalize((0.5,0.5,0.5),(0.5,0.5,0.5))])\n",
        "  out_dir='./dataset' #Directory where mnist needs to be downladed\n",
        "  #download the mnist dataset in output directory 'out_dir' and applies transformations 'compose'\n",
        "  # here the dataset is returned as a tensor\n",
        "  return datasets.MNIST(root=out_dir,train=True,transform=compose, download=True)\n",
        "\n",
        "data=mnist_data()\n",
        "\n",
        "data_loader=torch.utils.data.DataLoader(data, batch_size=100,shuffle=True)\n",
        "num_batches=len(data_loader)"
      ],
      "execution_count": 0,
      "outputs": []
    },
    {
      "metadata": {
        "id": "8jSQZDh2w6Jp",
        "colab_type": "text"
      },
      "cell_type": "markdown",
      "source": [
        "## Discriminative Netwrok\n",
        "Defining Discriminator function first. Input will be an image(flattened, one dimensinal) and ouput would be probability(1: real image, 0: fake image)\n",
        "3 hidden layers using Leaky Relu\n",
        "Dropout layer use at the end to prevent overfitting.\n",
        "A sigmoid function is applied to get the output between 0 and 1."
      ]
    },
    {
      "metadata": {
        "id": "V4B35ofPt201",
        "colab_type": "code",
        "colab": {}
      },
      "cell_type": "code",
      "source": [
        "class DiscriminatorGan(torch.nn.Module):\n",
        "  def __init__(self):\n",
        "    #super ?? \n",
        "    super(DiscriminatorGan,self).__init__()\n",
        "    n_features = 784\n",
        "    n_out=1\n",
        "    \n",
        "    #Making the model\n",
        "    #Sequential hidden layer: input nodes: n_features, output nodes: 1024, activation function: LeakyuRelu\n",
        "    self.hidden0= nn.Sequential(nn.Linear(n_features,1024),nn.LeakyReLU(0.2),nn.Dropout(0.3))\n",
        "    # nn.Dropout(probability) introduces random zeros to prevent overfitting, i.e. regularizing and preventing the coadapting of neurals.\n",
        "    #probability is the probability than an element becomees 0\n",
        "    \n",
        "    #nn.LeakyRelU(negative_slope) leakyrelu(x)=max(0,x)+negative_slopt*min(0,x)\n",
        "    self.hidden1=nn.Sequential(nn.Linear(1024,512),nn.LeakyReLU(0.2),nn.Dropout(0.3))\n",
        "    self.hidden2=nn.Sequential(nn.Linear(512,256),nn.LeakyReLU(0.2),nn.Dropout(0.3)) \n",
        "    self.out=nn.Sequential(torch.nn.Linear(256,n_out),torch.nn.Sigmoid()) #Sigmoid at the end to get thevaues between 0 and 1\n",
        "  \n",
        "  #one forward pass for input x\n",
        "  def forward(self,x):\n",
        "    x=self.hidden0(x)\n",
        "    x=self.hidden1(x)\n",
        "    x=self.hidden2(x)\n",
        "    x=self.out(x)\n",
        "    return x\n",
        "  \n",
        "discriminator=DiscriminatorGan()"
      ],
      "execution_count": 0,
      "outputs": []
    },
    {
      "metadata": {
        "id": "to1Jq4QK1fzh",
        "colab_type": "text"
      },
      "cell_type": "markdown",
      "source": [
        "Adding funcionality to flatten an image and vice versa. \n",
        "Flattening means to convert a multidimensional matrix to one dimensional"
      ]
    },
    {
      "metadata": {
        "id": "oVtDOFbn1tsg",
        "colab_type": "code",
        "colab": {}
      },
      "cell_type": "code",
      "source": [
        "def images_to_vectors(images):\n",
        "  return images.view(images.size(0),784) #parameters: (size to flatten(28 here, row size), no. of images to be flattened)\n",
        "\n",
        "def vectors_to_images(vectors):\n",
        "  return vectors.view(vectors.size(0),1,28,28) # to convert each row of vectors to 28x28 pixels images \n",
        "# parameteres: (initial flattened dim, no. of sub vectors to be converted to 2d, 2d dimensions of output )"
      ],
      "execution_count": 0,
      "outputs": []
    },
    {
      "metadata": {
        "id": "BMeolIHc4Oul",
        "colab_type": "text"
      },
      "cell_type": "markdown",
      "source": [
        "## Generative Network\n",
        "Constructing the Generative network\n",
        "Here the input is an latent valued image and th eoutput is a flattened image.\n",
        "3 hidden layers, each followed by leakyrelu.\n",
        "The output layer has TanH activation Function which maps resulting values to -1 to 1. like out normalized mnist images are bound."
      ]
    },
    {
      "metadata": {
        "id": "Aa_7wkrx4NJW",
        "colab_type": "code",
        "colab": {}
      },
      "cell_type": "code",
      "source": [
        "class GeneratorGan(torch.nn.Module):\n",
        "  def __init__(self):\n",
        "    super(GeneratorGan,self).__init__() # Why is a super constructor created?\n",
        "    n_features=100 # Can n_features be any random no.\n",
        "    n_out=784 # flattened output image\n",
        "    # Why no. of nodes in reverse order as compared to discriminator?\n",
        "    self.hidden0=nn.Sequential(nn.Linear(n_features,256),nn.LeakyReLU(0.2)) \n",
        "    self.hidden1=nn.Sequential(nn.Linear(256,512),nn.LeakyReLU(0.2))\n",
        "    self.hidden2=nn.Sequential(nn.Linear(512,1024),nn.LeakyReLU(0.2))# how does leaky rely work? and what is its significance?\n",
        "    self.out=nn.Sequential(nn.Linear(1024,n_out),nn.Tanh())   \n",
        "  def forward(self,x):\n",
        "    x=self.hidden0(x)\n",
        "    x=self.hidden1(x)\n",
        "    x=self.hidden2(x)\n",
        "    x=self.out(x)\n",
        "    return x\n",
        "  \n",
        "generator=GeneratorGan()\n",
        " "
      ],
      "execution_count": 0,
      "outputs": []
    },
    {
      "metadata": {
        "id": "SD03-Qev8ay9",
        "colab_type": "text"
      },
      "cell_type": "markdown",
      "source": [
        "##Noise generation function\n",
        "Function to generate random noise for generator. The noise is noramlized with mean 0 and standard devi 1. Why?"
      ]
    },
    {
      "metadata": {
        "id": "K8YZf0BT8Y7c",
        "colab_type": "code",
        "colab": {}
      },
      "cell_type": "code",
      "source": [
        "def noise(size):\n",
        "  n=Variable(torch.randn(size,100))\n",
        "  return n"
      ],
      "execution_count": 0,
      "outputs": []
    },
    {
      "metadata": {
        "id": "ACNpuZZ29R32",
        "colab_type": "text"
      },
      "cell_type": "markdown",
      "source": [
        "##Optimization\n",
        "Adam optimizer used with learning rate = 0.0002"
      ]
    },
    {
      "metadata": {
        "id": "nx2mx_0H-5QQ",
        "colab_type": "code",
        "colab": {}
      },
      "cell_type": "code",
      "source": [
        "d_optimizer=optim.Adam(discriminator.parameters(),lr=0.0002)\n",
        "g_optimizer=optim.Adam(generator.parameters(),lr=0.0002)"
      ],
      "execution_count": 0,
      "outputs": []
    },
    {
      "metadata": {
        "id": "xIUr8pKH_Mby",
        "colab_type": "text"
      },
      "cell_type": "markdown",
      "source": [
        "##Loss Function\n",
        "Using binary cross entropy lss function. then calculating average of loss from each minibatch.\n",
        "![Loss Function of Gan](https://cdn-images-1.medium.com/max/2000/1*IcuF1_TXjngF2VHQjdwzjg.png)\n",
        "Here the weights will be 1. Why?\n",
        "The ouputs yi is 1 and replacing the first input v1 as D(x) and second input vi = D(G(x)). what it (1-y) in the second term?\n",
        "Since we have to ascent the gradient in Gan. Why? and bce loss function is for gradient 'descent'. we add a negative sign on the loss function"
      ]
    },
    {
      "metadata": {
        "id": "rA9NUAq4_m7C",
        "colab_type": "code",
        "colab": {}
      },
      "cell_type": "code",
      "source": [
        "loss=nn.BCELoss()"
      ],
      "execution_count": 0,
      "outputs": []
    },
    {
      "metadata": {
        "id": "WJH7ZslXCYdm",
        "colab_type": "text"
      },
      "cell_type": "markdown",
      "source": [
        "Now since the output for real images is 1 and fake images is zero"
      ]
    },
    {
      "metadata": {
        "id": "EfOUHAN2Cdk1",
        "colab_type": "code",
        "colab": {}
      },
      "cell_type": "code",
      "source": [
        "def ones_target(size):\n",
        "  #returning tensor variable containing ones, with shape =size\n",
        "  data=Variable(torch.ones(size,1))\n",
        "  return data\n",
        "\n",
        "def zeros_target(size):\n",
        "  data=Variable(torch.zeros(size,1))\n",
        "  return data"
      ],
      "execution_count": 0,
      "outputs": []
    },
    {
      "metadata": {
        "id": "Y_7CgVAXDrF0",
        "colab_type": "text"
      },
      "cell_type": "markdown",
      "source": [
        "Training the gradients of generator and discriminator separately "
      ]
    },
    {
      "metadata": {
        "id": "hyfEolwPDqy1",
        "colab_type": "code",
        "colab": {}
      },
      "cell_type": "code",
      "source": [
        "#Here optimizer is adam optim. created above, as d_optimizer or g_optimizer\n",
        "def train_discriminator(optimizer, real_data, fake_data):\n",
        "  N=real_data.size(0)\n",
        "  #reset gradients\n",
        "  optimizer.zero_grad()\n",
        "  \n",
        "  #training on real_data\n",
        "  prediction_real=discriminator(real_data)\n",
        "  #error calculation for back propogation\n",
        "  error_real=loss(prediction_real,ones_target(N))\n",
        "  #inbuilt function\"backward\" in bce loss class \n",
        "  error_real.backward()\n",
        "  \n",
        "  #training on fake dat\n",
        "  prediction_fake=discriminator(fake_data)\n",
        "  error_fake=loss(prediction_fake,zeros_target(N))\n",
        "  error_fake.backward()\n",
        "  \n",
        "  #updating weights and grad\n",
        "  optimizer.step()\n",
        "  return error_real+ error_fake, prediction_real, prediction_fake\n",
        "  "
      ],
      "execution_count": 0,
      "outputs": []
    },
    {
      "metadata": {
        "id": "_VKpA1QhHaA_",
        "colab_type": "text"
      },
      "cell_type": "markdown",
      "source": [
        "Now training generator, the generator has a different loss function.\n",
        "![Generator loss funtion](https://cdn-images-1.medium.com/max/1600/1*77HB-XBWpCc-ZIGbyaOisA.png)\n",
        "\n",
        " "
      ]
    },
    {
      "metadata": {
        "id": "HSO_Cd52IG5g",
        "colab_type": "code",
        "colab": {}
      },
      "cell_type": "code",
      "source": [
        "def train_generator(optimizer, fake_data):\n",
        "  N=fake_data.size(0)\n",
        "  optimizer.zero_grad() #zero out the parameters of optimizer, because there are the no weights.\n",
        "  #generating fake data by noise\n",
        "  prediction=discriminator(fake_data)\n",
        "  \n",
        "  error=loss(prediction,ones_target(N))\n",
        "  error.backward()\n",
        "  optimizer.step()\n",
        "  return error\n",
        "             "
      ],
      "execution_count": 0,
      "outputs": []
    },
    {
      "metadata": {
        "id": "5WpEN-sGKBOn",
        "colab_type": "code",
        "colab": {}
      },
      "cell_type": "code",
      "source": [
        "num_test_samples=16\n",
        "#generating test samples\n",
        "test_noise=noise(num_test_samples)"
      ],
      "execution_count": 0,
      "outputs": []
    },
    {
      "metadata": {
        "id": "ltEqQsIpK1Us",
        "colab_type": "text"
      },
      "cell_type": "markdown",
      "source": [
        "##Training the Gan"
      ]
    },
    {
      "metadata": {
        "id": "q4sosw5gQwCO",
        "colab_type": "code",
        "outputId": "f05504eb-5fe2-4046-e821-de4b03c988e3",
        "colab": {
          "base_uri": "https://localhost:8080/",
          "height": 122
        }
      },
      "cell_type": "code",
      "source": [
        "!pip install --no-cache-dir -I pillow"
      ],
      "execution_count": 0,
      "outputs": [
        {
          "output_type": "stream",
          "text": [
            "Collecting pillow\n",
            "\u001b[?25l  Downloading https://files.pythonhosted.org/packages/62/94/5430ebaa83f91cc7a9f687ff5238e26164a779cca2ef9903232268b0a318/Pillow-5.3.0-cp36-cp36m-manylinux1_x86_64.whl (2.0MB)\n",
            "\u001b[K    100% |████████████████████████████████| 2.0MB 19.4MB/s \n",
            "\u001b[?25hInstalling collected packages: pillow\n",
            "Successfully installed pillow-5.3.0\n"
          ],
          "name": "stdout"
        }
      ]
    },
    {
      "metadata": {
        "id": "OUHXgR9MOwdS",
        "colab_type": "code",
        "colab": {}
      },
      "cell_type": "code",
      "source": [
        "from PIL import Image\n",
        "def register_extension(id, extension): Image.EXTENSION[extension.lower()] = id.upper()\n",
        "Image.register_extension = register_extension\n",
        "def register_extensions(id, extensions): \n",
        "  for extension in extensions: register_extension(id, extension)\n",
        "Image.register_extensions = register_extensions"
      ],
      "execution_count": 0,
      "outputs": []
    },
    {
      "metadata": {
        "id": "EfTDecmxK_Mc",
        "colab_type": "code",
        "colab": {}
      },
      "cell_type": "code",
      "source": [
        "from PIL import Image\n",
        "#creating logger instance\n",
        "logger=Logger(model_name='VGAN',data_name='MNIST')\n",
        "num_epochs=50\n",
        "num_batches = len(data_loader)\n",
        "for epoch in range(num_epochs):\n",
        "  for n_batch,(real_batch,_) in enumerate(data_loader):\n",
        "    N=real_batch.size(0)\n",
        "    \n",
        "    #Train discriminator\n",
        "    real_data=Variable(images_to_vectors(real_batch))\n",
        "    #generate fake data and detach to avoid further calculation of gradients\n",
        "    fake_data=generator(noise(N)).detach()\n",
        "    \n",
        "    #train\n",
        "    d_error,d_pred_real,d_pred_fake=train_discriminator(d_optimizer, real_data, fake_data)\n",
        "    \n",
        "    #Train Generator\n",
        "    #generate fake data\n",
        "    fake_data=generator(noise(N))\n",
        "    #train \n",
        "    g_error=train_generator(g_optimizer, fake_data)\n",
        "    #Log batch error\n",
        "    logger.log(d_error, g_error, epoch, n_batch, num_batches)\n",
        "    if(n_batch)%100==0: #??\n",
        "      test_images=vectors_to_images(generator(test_noise))\n",
        "      test_images=test_images.data\n",
        "#       logger.log_images(test_images, num_test_samples,epoch, n_batch, num_batches);\n",
        "            \n",
        "      #display status logs\n",
        "      logger.display_status(epoch, num_epochs,n_batch,num_batches,d_error,g_error,d_pred_real,d_pred_fake)\n",
        "      import matplotlib.pyplot as plt\n",
        "      f, axarr = plt.subplots(2, 2)\n",
        "      axarr[0, 0].imshow(test_images[0,0])\n",
        "      axarr[0,1].imshow(test_images[1,0])\n",
        "      axarr[1, 0].imshow(test_images[2,0])\n",
        "      axarr[1, 1].imshow(test_images[3,0])\n",
        "      # Fine-tune figure; make subplots farther from each other.\n",
        "      f.subplots_adjust(hspace=0.3)\n",
        "\n",
        "      plt.show()"
      ],
      "execution_count": 0,
      "outputs": []
    },
    {
      "metadata": {
        "id": "zIS_HptgayEW",
        "colab_type": "code",
        "outputId": "e9e3d3ce-e4cf-4461-8df6-31b78139a30f",
        "colab": {
          "base_uri": "https://localhost:8080/",
          "height": 349
        }
      },
      "cell_type": "code",
      "source": [
        "import matplotlib.pyplot as plt\n",
        "f, axarr = plt.subplots(2, 2)\n",
        "axarr[0, 0].imshow(test_images[0,0])\n",
        "axarr[0,1].imshow(test_images[1,0])\n",
        "axarr[1, 0].imshow(test_images[2,0])\n",
        "axarr[1, 1].imshow(test_images[3,0])\n",
        "# Fine-tune figure; make subplots farther from each other.\n",
        "f.subplots_adjust(hspace=0.3)\n",
        "\n",
        "plt.show()\n"
      ],
      "execution_count": 0,
      "outputs": [
        {
          "output_type": "display_data",
          "data": {
            "image/png": "[encoded data removed]",
            "text/plain": [
              "<matplotlib.figure.Figure at 0x7f8c2b9f36d8>"
            ]
          },
          "metadata": {
            "tags": []
          }
        }
      ]
    },
    {
      "metadata": {
        "id": "GiM3SlQkAVt0",
        "colab_type": "text"
      },
      "cell_type": "markdown",
      "source": [
        "https://medium.com/ai-society/gans-from-scratch-1-a-deep-introduction-with-code-in-pytorch-and-tensorflow-cb03cdcdba0f"
      ]
    }
  ]
}